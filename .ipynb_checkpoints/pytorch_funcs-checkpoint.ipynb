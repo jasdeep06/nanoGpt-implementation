{
 "cells": [
  {
   "cell_type": "code",
   "execution_count": 45,
   "id": "ce4ed0ad-4031-40f0-a560-2aeba045e701",
   "metadata": {},
   "outputs": [],
   "source": [
    "import torch\n",
    "import numpy as np"
   ]
  },
  {
   "cell_type": "code",
   "execution_count": 46,
   "id": "37589f04-1665-4a37-bcbe-90d513f9d9b8",
   "metadata": {},
   "outputs": [],
   "source": [
    "def describe(t):\n",
    "    print()\n",
    "    print(t,t.shape,t.dtype)\n",
    "    print()"
   ]
  },
  {
   "cell_type": "markdown",
   "id": "788b0986-01b4-4797-b1f3-992af0c5859f",
   "metadata": {},
   "source": [
    "## Functions where a tensor is created from 0 tensors"
   ]
  },
  {
   "cell_type": "code",
   "execution_count": 47,
   "id": "0bc92339-df4b-4296-a7d5-91a85d1e9a17",
   "metadata": {},
   "outputs": [
    {
     "name": "stdout",
     "output_type": "stream",
     "text": [
      "Tensor from list [[1, 2, 3], [4, 5, 6]] =======> tensor([[1, 2, 3],\n",
      "        [4, 5, 6]]) with shape torch.Size([2, 3]) with dtype torch.int64 with requires_grad False by default\n",
      "Tensor from numpy array [[0.83410477 0.95239414 0.91786261]\n",
      " [0.23167481 0.91089324 0.4643033 ]] =======> tensor([[0.8341, 0.9524, 0.9179],\n",
      "        [0.2317, 0.9109, 0.4643]], dtype=torch.float64) with shape torch.Size([2, 3]) with dtype torch.float64 with requires_grad False by default\n",
      "Tensor from numpy array [[0.83410477 0.95239414 0.91786261]\n",
      " [0.23167481 0.91089324 0.4643033 ]] =======> tensor([[0.8341, 0.9524, 0.9179],\n",
      "        [0.2317, 0.9109, 0.4643]], dtype=torch.float64) with shape torch.Size([2, 3]) with dtype torch.float64 with requires_grad False by default\n"
     ]
    }
   ],
   "source": [
    "#from list\n",
    "l = [[1,2,3],[4,5,6]]\n",
    "a = torch.tensor(l)\n",
    "print(\"Tensor from list\",l, \"=======>\" , a, \"with shape\",a.shape,\"with dtype\",a.dtype,\"with requires_grad\",a.requires_grad,\"by default\")\n",
    "\n",
    "#from numpy array\n",
    "n = np.random.rand(2,3)\n",
    "b = torch.tensor(n)\n",
    "print(\"Tensor from numpy array\",n, \"=======>\" , b, \"with shape\",b.shape,\"with dtype\",b.dtype,\"with requires_grad\",b.requires_grad,\"by default\")\n",
    "\n",
    "c = torch.from_numpy(n)\n",
    "print(\"Tensor from numpy array\",n, \"=======>\" , c, \"with shape\",c.shape,\"with dtype\",c.dtype,\"with requires_grad\",c.requires_grad,\"by default\")\n",
    "\n",
    "\n"
   ]
  },
  {
   "cell_type": "code",
   "execution_count": 48,
   "id": "8136d1a9-0ef1-4216-acbd-49b908225388",
   "metadata": {},
   "outputs": [
    {
     "name": "stdout",
     "output_type": "stream",
     "text": [
      "\n",
      "tensor([[0., 0., 0.],\n",
      "        [0., 0., 0.]]) torch.Size([2, 3]) torch.float32\n",
      "\n",
      "\n",
      "tensor([[1., 1., 1.],\n",
      "        [1., 1., 1.]]) torch.Size([2, 3]) torch.float32\n",
      "\n"
     ]
    }
   ],
   "source": [
    "#takes in dims\n",
    "describe(torch.zeros(2,3))\n",
    "#takes in dims\n",
    "describe(torch.ones(2,3))\n"
   ]
  },
  {
   "cell_type": "code",
   "execution_count": 49,
   "id": "44ed2a9a-a7c2-4386-a976-aa1795b76403",
   "metadata": {},
   "outputs": [
    {
     "name": "stdout",
     "output_type": "stream",
     "text": [
      "\n",
      "tensor([[0.4064, 0.7071, 0.6499],\n",
      "        [0.8302, 0.2003, 0.5052]]) torch.Size([2, 3]) torch.float32\n",
      "\n",
      "\n",
      "tensor([[ 2.0041, -0.0551,  1.4880],\n",
      "        [-0.5075,  1.0443, -0.8530]]) torch.Size([2, 3]) torch.float32\n",
      "\n"
     ]
    }
   ],
   "source": [
    "#takes in dims\n",
    "describe(torch.rand(2,3))\n",
    "#takes in dims\n",
    "describe(torch.randn(2,3))"
   ]
  },
  {
   "cell_type": "code",
   "execution_count": 50,
   "id": "f9dff409-fbcb-4b60-9b35-c902314b64cd",
   "metadata": {},
   "outputs": [
    {
     "name": "stdout",
     "output_type": "stream",
     "text": [
      "\n",
      "tensor([1, 2, 3, 4]) torch.Size([4]) torch.int64\n",
      "\n",
      "\n",
      "tensor([1., 3., 5., 7., 9.]) torch.Size([5]) torch.float32\n",
      "\n",
      "\n",
      "tensor([1.0000, 1.4444, 1.8889, 2.3333, 2.7778, 3.2222, 3.6667, 4.1111, 4.5556,\n",
      "        5.0000]) torch.Size([10]) torch.float32\n",
      "\n"
     ]
    }
   ],
   "source": [
    "#min max interval and max is excluded\n",
    "describe(torch.arange(1,5))\n",
    "describe(torch.arange(1.0,10.0,2))\n",
    "\n",
    "#min max number_of_values and max is included\n",
    "describe(torch.linspace(1,5,10))"
   ]
  },
  {
   "cell_type": "markdown",
   "id": "9e09bd4c-79fe-49dd-bf7c-78add462609d",
   "metadata": {},
   "source": [
    "## Functions where a tensor is altered(reshape,squeeze,unsqueeze)"
   ]
  },
  {
   "cell_type": "code",
   "execution_count": 52,
   "id": "bda396e8-b4b3-4510-b9a2-0b1e66e5b7d3",
   "metadata": {},
   "outputs": [
    {
     "name": "stdout",
     "output_type": "stream",
     "text": [
      "\n",
      "tensor([0, 1, 2, 3, 4, 5, 6, 7]) torch.Size([8]) torch.int64\n",
      "\n",
      "\n",
      "tensor([[0, 1, 2, 3],\n",
      "        [4, 5, 6, 7]]) torch.Size([2, 4]) torch.int64\n",
      "\n",
      "tensor([[[0.6431, 0.7386],\n",
      "         [0.2529, 0.5463],\n",
      "         [0.8872, 0.2032]],\n",
      "\n",
      "        [[0.5340, 0.5104],\n",
      "         [0.9807, 0.1679],\n",
      "         [0.0379, 0.5528]],\n",
      "\n",
      "        [[0.2201, 0.2503],\n",
      "         [0.5550, 0.8240],\n",
      "         [0.3631, 0.3262]],\n",
      "\n",
      "        [[0.3391, 0.5989],\n",
      "         [0.3123, 0.4197],\n",
      "         [0.9391, 0.2328]]])\n",
      "\n",
      "tensor([[0.6431, 0.7386, 0.2529, 0.5463, 0.8872, 0.2032],\n",
      "        [0.5340, 0.5104, 0.9807, 0.1679, 0.0379, 0.5528],\n",
      "        [0.2201, 0.2503, 0.5550, 0.8240, 0.3631, 0.3262],\n",
      "        [0.3391, 0.5989, 0.3123, 0.4197, 0.9391, 0.2328]]) torch.Size([4, 6]) torch.float32\n",
      "\n",
      "\n",
      "tensor([[0.6431, 0.7386, 0.2529, 0.5463, 0.8872, 0.2032],\n",
      "        [0.5340, 0.5104, 0.9807, 0.1679, 0.0379, 0.5528],\n",
      "        [0.2201, 0.2503, 0.5550, 0.8240, 0.3631, 0.3262],\n",
      "        [0.3391, 0.5989, 0.3123, 0.4197, 0.9391, 0.2328]]) torch.Size([4, 6]) torch.float32\n",
      "\n"
     ]
    }
   ],
   "source": [
    "#reshaping starts from the innermost dimension\n",
    "#traverse on a flat tensor and start accumulating the innermost dimension\n",
    "#0,1,2,3(for the dimension 4 in (2,4))\n",
    "d = torch.arange(8)\n",
    "describe(d)\n",
    "describe(d.reshape(2,4))\n",
    "\n",
    "e = torch.rand((4,3,2))\n",
    "print(e)\n",
    "#they both yeild the same output\n",
    "describe(e.reshape(4,6))\n",
    "describe(e.reshape(-1).reshape(4,6))"
   ]
  },
  {
   "cell_type": "code",
   "execution_count": 58,
   "id": "06d5620a-1f3c-42b2-aa17-1956d6b3fef0",
   "metadata": {},
   "outputs": [
    {
     "name": "stdout",
     "output_type": "stream",
     "text": [
      "\n",
      "tensor([[[0.6097, 0.2096],\n",
      "         [0.3063, 0.7557],\n",
      "         [0.9053, 0.1049]]]) torch.Size([1, 3, 2]) torch.float32\n",
      "\n",
      "\n",
      "tensor([[0.6097, 0.2096],\n",
      "        [0.3063, 0.7557],\n",
      "        [0.9053, 0.1049]]) torch.Size([3, 2]) torch.float32\n",
      "\n",
      "\n",
      "tensor([[[0.0119, 0.7893]],\n",
      "\n",
      "        [[0.3025, 0.0688]],\n",
      "\n",
      "        [[0.9503, 0.6213]]]) torch.Size([3, 1, 2]) torch.float32\n",
      "\n",
      "\n",
      "tensor([[0.0119, 0.7893],\n",
      "        [0.3025, 0.0688],\n",
      "        [0.9503, 0.6213]]) torch.Size([3, 2]) torch.float32\n",
      "\n"
     ]
    }
   ],
   "source": [
    "#gets rid of the dim if it is 1\n",
    "f = torch.rand(1,3,2)\n",
    "describe(f)\n",
    "describe(torch.squeeze(f,dim=0))\n",
    "\n",
    "g = torch.rand(3,1,2)\n",
    "describe(g)\n",
    "describe(torch.squeeze(g,dim=1))"
   ]
  },
  {
   "cell_type": "code",
   "execution_count": 59,
   "id": "2b7736ff-45b7-4a7a-8192-323b059f0993",
   "metadata": {},
   "outputs": [
    {
     "name": "stdout",
     "output_type": "stream",
     "text": [
      "\n",
      "tensor([[0.4634, 0.7433],\n",
      "        [0.5654, 0.0455],\n",
      "        [0.7890, 0.0802]]) torch.Size([3, 2]) torch.float32\n",
      "\n",
      "\n",
      "tensor([[[0.4634, 0.7433],\n",
      "         [0.5654, 0.0455],\n",
      "         [0.7890, 0.0802]]]) torch.Size([1, 3, 2]) torch.float32\n",
      "\n"
     ]
    }
   ],
   "source": [
    "#adds a dimension on dim\n",
    "h = torch.rand(3,2)\n",
    "describe(h)\n",
    "describe(torch.unsqueeze(h,dim=0))"
   ]
  },
  {
   "cell_type": "markdown",
   "id": "00bfcd43-18f6-4054-bb50-2dfe7df121e4",
   "metadata": {},
   "source": [
    "## Functions where two tensors are operated upon"
   ]
  },
  {
   "cell_type": "code",
   "execution_count": 66,
   "id": "8d777845-22b7-42be-9085-dbb475271973",
   "metadata": {},
   "outputs": [
    {
     "name": "stdout",
     "output_type": "stream",
     "text": [
      "\n",
      "tensor([[1, 2, 3],\n",
      "        [4, 5, 6]]) torch.Size([2, 3]) torch.int64\n",
      "\n",
      "\n",
      "tensor([[ 7,  8,  9],\n",
      "        [10, 11, 12]]) torch.Size([2, 3]) torch.int64\n",
      "\n",
      "dim=0 stacking\n",
      "\n",
      "tensor([[[ 1,  2,  3],\n",
      "         [ 4,  5,  6]],\n",
      "\n",
      "        [[ 7,  8,  9],\n",
      "         [10, 11, 12]]]) torch.Size([2, 2, 3]) torch.int64\n",
      "\n",
      "dim=1 stacking\n",
      "\n",
      "tensor([[[ 1,  2,  3],\n",
      "         [ 7,  8,  9]],\n",
      "\n",
      "        [[ 4,  5,  6],\n",
      "         [10, 11, 12]]]) torch.Size([2, 2, 3]) torch.int64\n",
      "\n",
      "dim=2 stacking\n",
      "\n",
      "tensor([[[ 1,  7],\n",
      "         [ 2,  8],\n",
      "         [ 3,  9]],\n",
      "\n",
      "        [[ 4, 10],\n",
      "         [ 5, 11],\n",
      "         [ 6, 12]]]) torch.Size([2, 3, 2]) torch.int64\n",
      "\n"
     ]
    }
   ],
   "source": [
    "a = torch.tensor([[1,2,3],[4,5,6]])\n",
    "b = torch.tensor([[7,8,9],[10,11,12]])\n",
    "describe(a)\n",
    "describe(b)\n",
    "\n",
    "#a new dimension is always created while using stack\n",
    "print(\"dim=0 stacking\")\n",
    "#this is similar to creating a batch comprising of a and b\n",
    "describe(torch.stack([a,b]))\n",
    "print(\"dim=1 stacking\")\n",
    "#this is similar to joining respective rows to create a new dimension\n",
    "describe(torch.stack([a,b],dim=1))\n",
    "print(\"dim=2 stacking\")\n",
    "#this is similar to element to element joining\n",
    "describe(torch.stack([a,b],dim=2))"
   ]
  },
  {
   "cell_type": "code",
   "execution_count": 68,
   "id": "684ec61d-26f3-45c6-9012-325960680558",
   "metadata": {},
   "outputs": [
    {
     "name": "stdout",
     "output_type": "stream",
     "text": [
      "\n",
      "tensor([[[ 1,  2,  3],\n",
      "         [ 4,  5,  6]],\n",
      "\n",
      "        [[ 7,  8,  9],\n",
      "         [10, 11, 12]]]) torch.Size([2, 2, 3]) torch.int64\n",
      "\n",
      "\n",
      "tensor([[[13, 14, 15],\n",
      "         [16, 17, 18]],\n",
      "\n",
      "        [[19, 20, 21],\n",
      "         [22, 23, 24]]]) torch.Size([2, 2, 3]) torch.int64\n",
      "\n"
     ]
    }
   ],
   "source": [
    "a = torch.tensor([[1,2,3],[4,5,6]])\n",
    "b = torch.tensor([[7,8,9],[10,11,12]])\n",
    "describe(a)\n",
    "describe(b)\n",
    "\n",
    "#cat joins tensors along existing dimensions\n",
    "print(\"dim=0 stacking\")\n",
    "#simply concatinating row wise i.e. 4 rows and 3 columns in output\n",
    "describe(torch.cat([a,b],dim=0))\n",
    "print(\"dim=1 stacking\")\n",
    "#simply concatinating column wise i.e. 2 rows and 6 columns in output\n",
    "describe(torch.cat([a,b],dim=1))"
   ]
  },
  {
   "cell_type": "code",
   "execution_count": 82,
   "id": "3c1b6d40-9b7f-40f4-8c80-854c156e6179",
   "metadata": {},
   "outputs": [
    {
     "name": "stdout",
     "output_type": "stream",
     "text": [
      "\n",
      "tensor([[[ 1,  2,  3,  4],\n",
      "         [ 5,  6,  7,  8],\n",
      "         [ 9, 10, 11, 12]],\n",
      "\n",
      "        [[13, 14, 15, 16],\n",
      "         [17, 18, 19, 20],\n",
      "         [21, 22, 23, 24]]]) torch.Size([2, 3, 4]) torch.int64\n",
      "\n",
      "\n",
      "tensor([[[ 1,  2,  3,  4],\n",
      "         [13, 14, 15, 16]],\n",
      "\n",
      "        [[ 5,  6,  7,  8],\n",
      "         [17, 18, 19, 20]],\n",
      "\n",
      "        [[ 9, 10, 11, 12],\n",
      "         [21, 22, 23, 24]]]) torch.Size([3, 2, 4]) torch.int64\n",
      "\n",
      "\n",
      "tensor([[[ 1,  5,  9],\n",
      "         [ 2,  6, 10],\n",
      "         [ 3,  7, 11],\n",
      "         [ 4,  8, 12]],\n",
      "\n",
      "        [[13, 17, 21],\n",
      "         [14, 18, 22],\n",
      "         [15, 19, 23],\n",
      "         [16, 20, 24]]]) torch.Size([2, 4, 3]) torch.int64\n",
      "\n",
      "\n",
      "tensor([[[ 1, 13],\n",
      "         [ 5, 17],\n",
      "         [ 9, 21]],\n",
      "\n",
      "        [[ 2, 14],\n",
      "         [ 6, 18],\n",
      "         [10, 22]],\n",
      "\n",
      "        [[ 3, 15],\n",
      "         [ 7, 19],\n",
      "         [11, 23]],\n",
      "\n",
      "        [[ 4, 16],\n",
      "         [ 8, 20],\n",
      "         [12, 24]]]) torch.Size([4, 3, 2]) torch.int64\n",
      "\n"
     ]
    }
   ],
   "source": [
    "#2,3,4\n",
    "#visualize this as two sheets(depth) each sheet containing 3 rows and 4 columns. These sheets stand parallel to each other\n",
    "a = torch.tensor([[[1,2,3,4],[5,6,7,8],[9,10,11,12]],[[13,14,15,16],[17,18,19,20],[21,22,23,24]]])\n",
    "describe(a)\n",
    "\n",
    "\n",
    "#3,2,4\n",
    "#here we need to convert 3 sheets to 2 and each sheet would contain two rows and four columns\n",
    "#View the visualization of \"a\" from the top. We can visualize three sheets stacked on top of one another(new depth) with rows of respective sheets now combined as \n",
    "#rows of the respective new sheets.\n",
    "b = torch.transpose(a,0,1)\n",
    "describe(b)\n",
    "\n",
    "c = torch.transpose(a,1,2)\n",
    "describe(c)\n",
    "\n",
    "#here we need to convert 2 sheets into 4 sheets and each sheet would contain 3 rows and 2 columns\n",
    "#View the visualization of \"a\" from the side. We can visualize 4 sheets stacked one behind another with elements/columns of respective sheets now combined as \n",
    "#columns of the respective new sheets.\n",
    "d = torch.transpose(a,0,2)\n",
    "describe(d)"
   ]
  },
  {
   "cell_type": "code",
   "execution_count": 85,
   "id": "663d01a9-0051-411e-af2c-3e2dab27705c",
   "metadata": {},
   "outputs": [
    {
     "name": "stdout",
     "output_type": "stream",
     "text": [
      "\n",
      "tensor([[[ 1,  2,  3,  4],\n",
      "         [ 5,  6,  7,  8],\n",
      "         [ 9, 10, 11, 12]],\n",
      "\n",
      "        [[13, 14, 15, 16],\n",
      "         [17, 18, 19, 20],\n",
      "         [21, 22, 23, 24]]]) torch.Size([2, 3, 4]) torch.int64\n",
      "\n",
      "\n",
      "tensor([[14, 16, 18, 20],\n",
      "        [22, 24, 26, 28],\n",
      "        [30, 32, 34, 36]]) torch.Size([3, 4]) torch.int64\n",
      "\n",
      "\n",
      "tensor([[[14, 16, 18, 20],\n",
      "         [22, 24, 26, 28],\n",
      "         [30, 32, 34, 36]]]) torch.Size([1, 3, 4]) torch.int64\n",
      "\n",
      "\n",
      "tensor([[15, 18, 21, 24],\n",
      "        [51, 54, 57, 60]]) torch.Size([2, 4]) torch.int64\n",
      "\n",
      "\n",
      "tensor([[[15, 18, 21, 24]],\n",
      "\n",
      "        [[51, 54, 57, 60]]]) torch.Size([2, 1, 4]) torch.int64\n",
      "\n",
      "\n",
      "tensor([[10, 26, 42],\n",
      "        [58, 74, 90]]) torch.Size([2, 3]) torch.int64\n",
      "\n",
      "\n",
      "tensor([[[10],\n",
      "         [26],\n",
      "         [42]],\n",
      "\n",
      "        [[58],\n",
      "         [74],\n",
      "         [90]]]) torch.Size([2, 3, 1]) torch.int64\n",
      "\n"
     ]
    }
   ],
   "source": [
    "a = torch.tensor([[[1,2,3,4],[5,6,7,8],[9,10,11,12]],[[13,14,15,16],[17,18,19,20],[21,22,23,24]]])\n",
    "describe(a)\n",
    "\n",
    "#sum along the outermost dim(along batch)\n",
    "#keepdim=False squeezes the dim that converts to 1 on sum\n",
    "describe(torch.sum(a,dim=0,keepdim=False))\n",
    "describe(torch.sum(a,dim=0,keepdim=True))\n",
    "\n",
    "#sum along the rows\n",
    "describe(torch.sum(a,dim=1,keepdim=False))\n",
    "describe(torch.sum(a,dim=1,keepdim=True))\n",
    "\n",
    "#sum along the columns\n",
    "describe(torch.sum(a,dim=2,keepdim=False))\n",
    "describe(torch.sum(a,dim=2,keepdim=True))"
   ]
  },
  {
   "cell_type": "code",
   "execution_count": null,
   "id": "3a23892f-3f5f-4585-add6-dd9f236a8628",
   "metadata": {},
   "outputs": [],
   "source": []
  }
 ],
 "metadata": {
  "kernelspec": {
   "display_name": "Python 3 (ipykernel)",
   "language": "python",
   "name": "python3"
  },
  "language_info": {
   "codemirror_mode": {
    "name": "ipython",
    "version": 3
   },
   "file_extension": ".py",
   "mimetype": "text/x-python",
   "name": "python",
   "nbconvert_exporter": "python",
   "pygments_lexer": "ipython3",
   "version": "3.8.7"
  }
 },
 "nbformat": 4,
 "nbformat_minor": 5
}
